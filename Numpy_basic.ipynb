{
 "cells": [
  {
   "cell_type": "code",
   "execution_count": 15,
   "id": "42267f01-a819-439c-8468-34a5d43f0b58",
   "metadata": {},
   "outputs": [
    {
     "data": {
      "text/plain": [
       "array(['1', '2', '3', '4', '5'], dtype='<U1')"
      ]
     },
     "execution_count": 15,
     "metadata": {},
     "output_type": "execute_result"
    }
   ],
   "source": [
    "import numpy as np\n",
    "list_ =['1','2','3','4','5']\n",
    "array_list = np.array(object = list_)\n",
    "array_list"
   ]
  },
  {
   "cell_type": "markdown",
   "id": "12aac6ee-af09-48b0-aa0c-42a16d4a3b72",
   "metadata": {},
   "source": [
    "#Q1"
   ]
  },
  {
   "cell_type": "code",
   "execution_count": 8,
   "id": "9fa348b1-3c65-4adf-b2af-c936be6f46d1",
   "metadata": {},
   "outputs": [
    {
     "name": "stdout",
     "output_type": "stream",
     "text": [
      "Data type of 'list_': <class 'list'>\n",
      "Data type of 'array_list': <class 'numpy.ndarray'>\n"
     ]
    }
   ],
   "source": [
    "print(\"Data type of 'list_':\" , type(list_))\n",
    "print(\"Data type of 'array_list':\" , type(array_list))"
   ]
  },
  {
   "cell_type": "markdown",
   "id": "3a95ee0a-de81-4b41-9073-021a30bd67c4",
   "metadata": {},
   "source": [
    "#Q2"
   ]
  },
  {
   "cell_type": "code",
   "execution_count": 19,
   "id": "d33fde6d-9da2-40a9-b8fe-444c8ffdfe32",
   "metadata": {},
   "outputs": [
    {
     "name": "stdout",
     "output_type": "stream",
     "text": [
      "Data type of 'element_list_':\n",
      "<class 'str'>\n",
      "<class 'str'>\n",
      "<class 'str'>\n",
      "<class 'str'>\n",
      "<class 'str'>\n",
      "\n",
      "Data type of 'element_array_list':\n",
      "<class 'numpy.str_'>\n",
      "<class 'numpy.str_'>\n",
      "<class 'numpy.str_'>\n",
      "<class 'numpy.str_'>\n",
      "<class 'numpy.str_'>\n"
     ]
    }
   ],
   "source": [
    "print(\"Data type of 'element_list_':\")\n",
    "for elements in list_:\n",
    "    print(type(elements))\n",
    "    \n",
    "print(\"\\nData type of 'element_array_list':\")\n",
    "for elements in array_list:\n",
    "    print(type(elements))"
   ]
  },
  {
   "cell_type": "code",
   "execution_count": 14,
   "id": "f0902b5c-dbaa-4d81-93a9-96edf4eb462e",
   "metadata": {},
   "outputs": [
    {
     "data": {
      "text/plain": [
       "array([1, 2, 3, 4, 5])"
      ]
     },
     "execution_count": 14,
     "metadata": {},
     "output_type": "execute_result"
    }
   ],
   "source": [
    "array_list= np.array(object =list_ , dtype = int)\n",
    "array_list"
   ]
  },
  {
   "cell_type": "markdown",
   "id": "40ba978e-c608-4dda-a568-51d715f092de",
   "metadata": {},
   "source": [
    "#Q3"
   ]
  },
  {
   "cell_type": "code",
   "execution_count": 18,
   "id": "5289a193-594e-4ee8-acde-21779474c652",
   "metadata": {},
   "outputs": [
    {
     "name": "stdout",
     "output_type": "stream",
     "text": [
      "Data type of elements in 'list_':\n",
      "<class 'str'>\n",
      "<class 'str'>\n",
      "<class 'str'>\n",
      "<class 'str'>\n",
      "<class 'str'>\n",
      "\n",
      "Data type of elements in 'array_list':\n",
      "<class 'numpy.str_'>\n",
      "<class 'numpy.str_'>\n",
      "<class 'numpy.str_'>\n",
      "<class 'numpy.str_'>\n",
      "<class 'numpy.str_'>\n"
     ]
    }
   ],
   "source": [
    "print(\"Data type of elements in 'list_':\")\n",
    "for elements in list_:\n",
    "    print(type(elements))\n",
    "    \n",
    "print(\"\\nData type of elements in 'array_list':\")\n",
    "for elements in array_list:\n",
    "    print(type(elements))"
   ]
  },
  {
   "cell_type": "code",
   "execution_count": 20,
   "id": "37acd7a4-654c-4eeb-9c9a-4ab8e8ca7e98",
   "metadata": {},
   "outputs": [],
   "source": [
    "num_list = [[ '1','2','3'],['4','5','6',]]\n",
    "num_array = np.array(object = num_list)"
   ]
  },
  {
   "cell_type": "markdown",
   "id": "4e34e2ac-0a45-42a7-a99a-351e974c7a1c",
   "metadata": {},
   "source": [
    "#Q4"
   ]
  },
  {
   "cell_type": "code",
   "execution_count": 27,
   "id": "98310b0d-e5ed-4842-8e8d-7c128f5f610f",
   "metadata": {},
   "outputs": [
    {
     "name": "stdout",
     "output_type": "stream",
     "text": [
      "(2, 3)\n",
      "6\n"
     ]
    }
   ],
   "source": [
    "print(num_array.shape)\n",
    "print(num_array.size)"
   ]
  },
  {
   "cell_type": "markdown",
   "id": "a213332a-87e5-48f7-a011-ad30905fd36d",
   "metadata": {},
   "source": [
    "#Q5"
   ]
  },
  {
   "cell_type": "code",
   "execution_count": 30,
   "id": "13423b6b-34fe-4d77-9237-34ff795b1505",
   "metadata": {},
   "outputs": [
    {
     "name": "stdout",
     "output_type": "stream",
     "text": [
      "Array of zeros:\n",
      "[[0. 0. 0.]\n",
      " [0. 0. 0.]\n",
      " [0. 0. 0.]]\n"
     ]
    }
   ],
   "source": [
    "zeros_array = np.zeros((3,3))\n",
    "print(\"Array of zeros:\")\n",
    "print(zeros_array)"
   ]
  },
  {
   "cell_type": "code",
   "execution_count": 33,
   "id": "334cb5c4-7060-42f5-a4bb-21a2ca8f75e8",
   "metadata": {},
   "outputs": [
    {
     "name": "stdout",
     "output_type": "stream",
     "text": [
      "Array of Identity:\n",
      "[[1. 0. 0. 0. 0.]\n",
      " [0. 1. 0. 0. 0.]\n",
      " [0. 0. 1. 0. 0.]\n",
      " [0. 0. 0. 1. 0.]\n",
      " [0. 0. 0. 0. 1.]]\n"
     ]
    }
   ],
   "source": [
    "Identity_array = np.eye(5)\n",
    "print(\"Array of Identity:\")\n",
    "print(Identity_array)"
   ]
  },
  {
   "cell_type": "code",
   "execution_count": null,
   "id": "9792e2d6-31ae-4ec3-b311-4141812750b1",
   "metadata": {},
   "outputs": [],
   "source": []
  },
  {
   "cell_type": "code",
   "execution_count": null,
   "id": "94d8124c-6f19-4f82-8e0f-9a8a35fe19dc",
   "metadata": {},
   "outputs": [],
   "source": []
  }
 ],
 "metadata": {
  "kernelspec": {
   "display_name": "Python 3 (ipykernel)",
   "language": "python",
   "name": "python3"
  },
  "language_info": {
   "codemirror_mode": {
    "name": "ipython",
    "version": 3
   },
   "file_extension": ".py",
   "mimetype": "text/x-python",
   "name": "python",
   "nbconvert_exporter": "python",
   "pygments_lexer": "ipython3",
   "version": "3.10.8"
  }
 },
 "nbformat": 4,
 "nbformat_minor": 5
}
